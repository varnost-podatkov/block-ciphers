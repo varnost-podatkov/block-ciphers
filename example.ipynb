{
 "cells": [
  {
   "cell_type": "code",
   "execution_count": 2,
   "id": "e4054e57-eac8-4531-88d4-561b8ffc63c6",
   "metadata": {
    "tags": []
   },
   "outputs": [],
   "source": [
    "import json"
   ]
  },
  {
   "cell_type": "code",
   "execution_count": 3,
   "id": "b88ac647-a67a-47a1-b76b-08f52197dc8f",
   "metadata": {
    "tags": []
   },
   "outputs": [],
   "source": [
    "data = [\n",
    "    {\n",
    "        \"name\": \"David đšŽĆČ\",\n",
    "        \"number\": \"041 765 910\"\n",
    "    },\n",
    "    {\n",
    "        \"name\": \"Tanja\",\n",
    "        \"number\": \"041 543 080\"\n",
    "    }\n",
    "]"
   ]
  },
  {
   "cell_type": "code",
   "execution_count": 4,
   "id": "623b01f1-7514-410d-8258-97e74d397084",
   "metadata": {
    "tags": []
   },
   "outputs": [
    {
     "data": {
      "text/plain": [
       "b'[{\"name\": \"David \\xc4\\x91\\xc5\\xa1\\xc5\\xbd\\xc4\\x86\\xc4\\x8c\", \"number\": \"041 765 910\"}, {\"name\": \"Tanja\", \"number\": \"041 543 080\"}]'"
      ]
     },
     "execution_count": 4,
     "metadata": {},
     "output_type": "execute_result"
    }
   ],
   "source": [
    "json.dumps(data, ensure_ascii=False).encode(\"utf8\")"
   ]
  },
  {
   "cell_type": "code",
   "execution_count": 5,
   "id": "ec2fc590-6a7a-47fb-88f3-adc33af7daad",
   "metadata": {
    "tags": []
   },
   "outputs": [],
   "source": [
    "import os\n",
    "from cryptography.hazmat.primitives.ciphers.aead import AESGCM\n",
    "\n",
    "pt = json.dumps(data, ensure_ascii=False).encode(\"utf8\")\n",
    "key = AESGCM.generate_key(bit_length=128)\n",
    "aes = AESGCM(key)\n",
    "nonce = os.urandom(16)\n",
    "ct = aes.encrypt(nonce, pt, None)"
   ]
  },
  {
   "cell_type": "code",
   "execution_count": 6,
   "id": "3dcbbe6b-b77a-464d-850c-9bad9a7aa3b8",
   "metadata": {},
   "outputs": [],
   "source": [
    "with open(\"data/key.bin\", \"wb\") as h:\n",
    "    h.write(key)"
   ]
  },
  {
   "cell_type": "code",
   "execution_count": 7,
   "id": "dc0d2e53-bb28-4a5b-8ba2-36b63027947a",
   "metadata": {
    "tags": []
   },
   "outputs": [],
   "source": [
    "import os\n",
    "from cryptography.hazmat.primitives.ciphers import Cipher, algorithms, modes\n",
    "key = os.urandom(16)\n",
    "iv = os.urandom(16)\n",
    "cipher = Cipher(algorithms.AES(key), modes.CTR(iv))\n",
    "\n",
    "encryptor = cipher.encryptor()\n",
    "ct = encryptor.update(b\"a secret message\") + encryptor.finalize()\n",
    "decryptor = cipher.decryptor()\n",
    "decryptor.update(ct) + decryptor.finalize()\n",
    "\n",
    "pt = json.dumps(data, ensure_ascii=False).encode(\"utf8\")\n",
    "key = AESGCM.generate_key(bit_length=128)\n",
    "aes = AESGCM(key)\n",
    "nonce = os.urandom(16)\n",
    "ct = aes.encrypt(nonce, pt, None)"
   ]
  },
  {
   "cell_type": "code",
   "execution_count": 8,
   "id": "9dce7270-0ae0-49e1-b77c-4c3b2771f668",
   "metadata": {
    "tags": []
   },
   "outputs": [
    {
     "data": {
      "text/plain": [
       "'482b560590ae1c7ff2e2db1439398cc5'"
      ]
     },
     "execution_count": 8,
     "metadata": {},
     "output_type": "execute_result"
    }
   ],
   "source": [
    "os.urandom(16).hex()"
   ]
  }
 ],
 "metadata": {
  "kernelspec": {
   "display_name": "Python 3 (ipykernel)",
   "language": "python",
   "name": "python3"
  },
  "language_info": {
   "codemirror_mode": {
    "name": "ipython",
    "version": 3
   },
   "file_extension": ".py",
   "mimetype": "text/x-python",
   "name": "python",
   "nbconvert_exporter": "python",
   "pygments_lexer": "ipython3",
   "version": "3.10.12"
  }
 },
 "nbformat": 4,
 "nbformat_minor": 5
}
