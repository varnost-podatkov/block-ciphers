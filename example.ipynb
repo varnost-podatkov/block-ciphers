{
 "cells": [
  {
   "cell_type": "code",
   "execution_count": 1,
   "id": "e4054e57-eac8-4531-88d4-561b8ffc63c6",
   "metadata": {
    "tags": []
   },
   "outputs": [],
   "source": [
    "import json"
   ]
  },
  {
   "cell_type": "code",
   "execution_count": 4,
   "id": "b88ac647-a67a-47a1-b76b-08f52197dc8f",
   "metadata": {
    "tags": []
   },
   "outputs": [],
   "source": [
    "data = [\n",
    "    {\n",
    "        \"name\": \"David đšŽĆČ\",\n",
    "        \"number\": \"041 765 910\"\n",
    "    },\n",
    "    {\n",
    "        \"name\": \"Tanja\",\n",
    "        \"number\": \"041 543 080\"\n",
    "    }\n",
    "]"
   ]
  },
  {
   "cell_type": "code",
   "execution_count": 12,
   "id": "623b01f1-7514-410d-8258-97e74d397084",
   "metadata": {
    "tags": []
   },
   "outputs": [
    {
     "data": {
      "text/plain": [
       "b'[{\"name\": \"David \\xc4\\x91\\xc5\\xa1\\xc5\\xbd\\xc4\\x86\\xc4\\x8c\", \"number\": \"041 765 910\"}, {\"name\": \"Tanja\", \"number\": \"041 543 080\"}]'"
      ]
     },
     "execution_count": 12,
     "metadata": {},
     "output_type": "execute_result"
    }
   ],
   "source": [
    "json.dumps(data, ensure_ascii=False).encode(\"utf8\")"
   ]
  },
  {
   "cell_type": "code",
   "execution_count": 38,
   "id": "ec2fc590-6a7a-47fb-88f3-adc33af7daad",
   "metadata": {
    "tags": []
   },
   "outputs": [],
   "source": [
    "import os\n",
    "from cryptography.hazmat.primitives.ciphers.aead import AESGCM\n",
    "\n",
    "pt = json.dumps(data, ensure_ascii=False).encode(\"utf8\")\n",
    "key = AESGCM.generate_key(bit_length=128)\n",
    "aesgcm = AESGCM(key)\n",
    "nonce = os.urandom(16)\n",
    "ct = aesgcm.encrypt(nonce, pt, None)"
   ]
  },
  {
   "cell_type": "code",
   "execution_count": 39,
   "id": "3dcbbe6b-b77a-464d-850c-9bad9a7aa3b8",
   "metadata": {
    "tags": []
   },
   "outputs": [
    {
     "data": {
      "text/plain": [
       "(115, 99)"
      ]
     },
     "execution_count": 39,
     "metadata": {},
     "output_type": "execute_result"
    }
   ],
   "source": [
    "len(ct), len(pt)"
   ]
  }
 ],
 "metadata": {
  "kernelspec": {
   "display_name": "Python 3 (ipykernel)",
   "language": "python",
   "name": "python3"
  },
  "language_info": {
   "codemirror_mode": {
    "name": "ipython",
    "version": 3
   },
   "file_extension": ".py",
   "mimetype": "text/x-python",
   "name": "python",
   "nbconvert_exporter": "python",
   "pygments_lexer": "ipython3",
   "version": "3.10.12"
  }
 },
 "nbformat": 4,
 "nbformat_minor": 5
}
