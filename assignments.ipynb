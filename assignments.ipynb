{
 "cells": [
  {
   "cell_type": "markdown",
   "metadata": {},
   "source": [
    "# Bločne šifre\n",
    "\n",
    "Cilji laboratorijske vaje so sledeči:\n",
    "- Spoznati kriptografsko-varne generatorje naključnih vrednosti\n",
    "- Namestiti in se delno spoznati s knjižnico `cryptography`\n",
    "- Uporabiti bločno šifro AES v števčnem načinu z naključnim IV\n",
    "- Uporabiti bločno šifro AES v načinu veriženja tajnopisnih blokov z naključnim IV\n",
    "- Spoznati, kaj gre lahko narobe, če se isti IV/NONCE uporabi večkrat in izvesti napad\n",
    "- Spoznati, da simetrične šifre ne dajo nikakršnih zagotovil glede celovitosti in izvesti napad"
   ]
  },
  {
   "cell_type": "markdown",
   "metadata": {},
   "source": [
    "## Kriptografsko-varni generatorji naključnih vrednosti\n",
    "\n",
    "Vsak generator naključnih vrednosti ni primeren za uproabo v kriptografiji. Tisti, ki so, se imenujejo (kriptografsko-)varni generatorji.\n",
    "\n",
    "Naključne vrednosti bomo v Pythonu ustvarili s pomočjo modula `secrets`. [Povezava na dokumentacijo.](https://docs.python.org/3/library/secrets.html)"
   ]
  },
  {
   "cell_type": "code",
   "execution_count": 20,
   "metadata": {
    "tags": []
   },
   "outputs": [],
   "source": [
    "import secrets"
   ]
  },
  {
   "cell_type": "markdown",
   "metadata": {},
   "source": [
    "Npr. pridobimo 16 bajtov za simetrični ključ ali za vrednost NONCE ali IV."
   ]
  },
  {
   "cell_type": "code",
   "execution_count": 23,
   "metadata": {
    "tags": []
   },
   "outputs": [
    {
     "name": "stdout",
     "output_type": "stream",
     "text": [
      "Key: 50e81ca1d7acb1e3f214c1d829054a34\n",
      "IV: df37efda46ff1e7caeabbb1f36000c88\n"
     ]
    }
   ],
   "source": [
    "key = secrets.token_bytes(16)\n",
    "iv = secrets.token_bytes(16)\n",
    "\n",
    "print(f\"Key: {key.hex()}\")\n",
    "print(f\"IV: {iv.hex()}\")"
   ]
  },
  {
   "cell_type": "markdown",
   "metadata": {},
   "source": [
    "Alternativno lahko uporabimo tudi funkcijo `os.urandom(int)`, ki vrne naključni niz bajtov želene dolžine."
   ]
  },
  {
   "cell_type": "code",
   "execution_count": 24,
   "metadata": {
    "tags": []
   },
   "outputs": [
    {
     "name": "stdout",
     "output_type": "stream",
     "text": [
      "Key: 19e8f2542ccf6a306109403bc5200b77\n",
      "IV: 90af46cd1bd0a7aa4d1fd5be90c97fda\n"
     ]
    }
   ],
   "source": [
    "import os\n",
    "\n",
    "key = os.urandom(16)\n",
    "iv = os.urandom(16)\n",
    "\n",
    "print(f\"Key: {key.hex()}\")\n",
    "print(f\"IV: {iv.hex()}\")"
   ]
  },
  {
   "cell_type": "markdown",
   "metadata": {},
   "source": [
    "Oba načina sta primerna za ustvarjanje kriptografsko-varnih naključnih vrednosti in bi morala delovati v vseh operacijskih sistemih."
   ]
  },
  {
   "cell_type": "markdown",
   "metadata": {},
   "source": [
    "## Knijižnica `cryptography`\n",
    "\n",
    "Pri tem predmetu bomo v Pythonu uproabljali knjižnico kriptografsko knjižnico [`cryptography`; povezava do dokumentacije.](https://cryptography.io/en/latest) Namestimo jo z ukazom preko ukaznega poziva.\n",
    "\n",
    "```\n",
    "$ pip install cryptography\n",
    "```\n",
    "\n",
    "Na računalnikih v učilnici moramo paket namestiti v uporabniško mapo.\n",
    "\n",
    "```\n",
    "$ pip install --user cryptography\n",
    "```\n",
    "\n",
    "V grobem je knjižnica razdeljena v dva dela:\n",
    "\n",
    "- varni (enostavni) del, ki od razvijalca ne terja veliko konfiguracijskih nastavitev in je primeren tudi za kriptografsko manj vešče uporabnike, in\n",
    "- nevarni (hazmat) del, kjer se pričakuje, da veste kaj počnete.\n",
    "\n",
    "Prvi je lažji za uporabo in v njem težje napravimo traparije. Drugi je veliko bolj zmogljiv, a bolj zahteven za uporabo in v kolikor ne veste, kaj počnete, boste zelo verjetno naredili kaj narobe.\n",
    "\n",
    "Če menite, da bomo uporabljali enostavnega, verjetno predmetu ne sledite. Namen predmeta je, da se izučite za pravilno uporabo nevarnega. Znanje bo seveda prenosljivo tudi v druge programske jezike in knjižnice, saj je pogojeno z razumevanjem delovanja kriptografskih gradnikov."
   ]
  },
  {
   "cell_type": "markdown",
   "metadata": {},
   "source": [
    "## Naloga 1: Šifriranje z AES-CTR\n",
    "\n",
    "Začnimo z najbolj enostavnim primerom v kodi: šifriranje AES-CTR, kjer je IV naključno izbran. [Povezava do dokumentacije:](https://cryptography.io/en/latest/hazmat/primitives/symmetric-encryption/#) pri kriptografiji je __res nujno, da dokumentacijo poznate.__\n",
    "\n",
    "Najprej uvozimo zahtevane pakete."
   ]
  },
  {
   "cell_type": "code",
   "execution_count": 33,
   "metadata": {
    "tags": []
   },
   "outputs": [],
   "source": [
    "from cryptography.hazmat.primitives.ciphers import Cipher, algorithms, modes"
   ]
  },
  {
   "cell_type": "markdown",
   "metadata": {},
   "source": [
    "Za šifriranje potrebujemo\n",
    "- sporočilo\n",
    "- ključ\n",
    "- IV/NONCE\n",
    "- šifro -- algoritem $E$"
   ]
  },
  {
   "cell_type": "code",
   "execution_count": 63,
   "metadata": {
    "tags": []
   },
   "outputs": [],
   "source": [
    "# sporočilo -- ne pozabimo ga postrojiti\n",
    "msg = \"Dober dan!\".encode(\"utf8\")\n",
    "\n",
    "# ključ\n",
    "k = os.urandom(16)\n",
    "\n",
    "# IV\n",
    "iv = os.urandom(16)\n",
    "\n",
    "# algoritem -- to je odvisno od knjižnice: pri knjižnici cryptography\n",
    "# je treba narediti objekt Cipher in vanj podati algoritem ter način delovanja\n",
    "cipher = Cipher(\n",
    "    algorithms.AES(k),\n",
    "    modes.CTR(iv))\n",
    "encryptor = cipher.encryptor()"
   ]
  },
  {
   "cell_type": "markdown",
   "metadata": {},
   "source": [
    "Šifriranje je sedaj _enostavno_:\n",
    "\n",
    "1. Vmesnik je zastavljen, da lahko šifriramo večkrat, npr. da nalagamo podatke iz več datotek in nimamo vsega v pomnilniku.\n",
    "2. Vsakič ko pokličemo `encryptor.update(pt)` se šifrira čistopis in vrne tajnopis, a ne nujno ves: morda se zadnji blok ni zaključil v celoti. V tem primeru se preostali del čistopisa še nahaja nešifriran v objektu `encryptor`.\n",
    "3. Šifriranje zaključimo s klicem funkcije `encryptor.finalize()` -- takrat se ves morebitni čistopis v objektu `encryptor` šifrira in vrne.\n",
    "\n",
    "Vse rezultate klicov funkcije `update(pt)` ter na koncu tudi klica `finalize()` konkateniramo v seznam bajtov, ki predstavlja končni tajnopis. Del tajnopisa predstavlja tudi IV, saj brez tega ne moremo dešifrirati."
   ]
  },
  {
   "cell_type": "code",
   "execution_count": 64,
   "metadata": {
    "tags": []
   },
   "outputs": [
    {
     "name": "stdout",
     "output_type": "stream",
     "text": [
      "Ključ: d6d3ac8f969dc0158cde7740f8bbc260\n",
      "IV: 97214631aeafeb21476607841d4712ed\n",
      "Dolžina čistopisa 10, čistopis: 446f6265722064616e21\n",
      "Dolžina tajnopisa 10, tajnopis: 956f8e479cd5362cd49f\n"
     ]
    }
   ],
   "source": [
    "# V našem primeru je celoten čistopis v spremenljivki msg zato potrebujemo le en klic\n",
    "# metode update in zaključek s finalize\n",
    "ct = encryptor.update(msg) + encryptor.finalize()\n",
    "\n",
    "print(f\"Ključ: {k.hex()}\")\n",
    "print(f\"IV: {iv.hex()}\")\n",
    "print(f\"Dolžina čistopisa {len(msg)}, čistopis: {msg.hex()}\")\n",
    "print(f\"Dolžina tajnopisa {len(ct)}, tajnopis: {ct.hex()}\")"
   ]
  },
  {
   "cell_type": "markdown",
   "metadata": {
    "tags": []
   },
   "source": [
    "Dešifriranje je zelo podobno, potrebujemo:\n",
    "\n",
    "- Tajnopis\n",
    "- Ključ\n",
    "- IV, ki je bil uporabljen pri šifriranju\n",
    "- Šifro -- algoritem $D$"
   ]
  },
  {
   "cell_type": "code",
   "execution_count": 68,
   "metadata": {
    "tags": []
   },
   "outputs": [
    {
     "name": "stdout",
     "output_type": "stream",
     "text": [
      "Dešifriran tajnopis: Dober dan!\n"
     ]
    }
   ],
   "source": [
    "# spremenljivke k, iv, ct (od zgoraj) predstavljajo ključ, IV in tajnopis\n",
    "\n",
    "# algoritem dešifriranja\n",
    "decryptor = Cipher(algorithms.AES(k), modes.CTR(iv)).decryptor()\n",
    "pt = decryptor.update(ct) + decryptor.finalize()\n",
    "print(\"Dešifriran tajnopis:\", pt.decode(\"utf8\"))"
   ]
  },
  {
   "cell_type": "markdown",
   "metadata": {},
   "source": [
    "Implementirajte funkcijo `enc_aes_ctr(k, pt, iv=None)` skladno z navodili, podanimi v komentarju."
   ]
  },
  {
   "cell_type": "code",
   "execution_count": 71,
   "metadata": {
    "tags": []
   },
   "outputs": [],
   "source": [
    "def enc_aes_ctr(k, pt, iv=None):\n",
    "    \"\"\"Šifrira čistopis `pt` s ključem `k`. \n",
    "    \n",
    "    Če je `iv` podan (tj. ni nastavljen na None), ga uporabi. Če ni ustvari novega in ga uporabi.\n",
    "    \n",
    "    Vrne par (IV, tajnopis).\"\"\"\n",
    "    \n",
    "    if iv is None:\n",
    "        iv = secrets.token_bytes(16)\n",
    "    \n",
    "    cipher = Cipher(algorithms.AES(k), modes.CTR(iv))\n",
    "    encryptor = cipher.encryptor()\n",
    "    ct = encryptor.update(pt) + encryptor.finalize()\n",
    "\n",
    "    return cipher.mode.nonce, ct"
   ]
  },
  {
   "cell_type": "code",
   "execution_count": 72,
   "metadata": {
    "tags": []
   },
   "outputs": [],
   "source": [
    "def test_enc_aes_ctr():   \n",
    "    key = bytes.fromhex(\"6141fb1142cd0611dd95798fd95352bb\")\n",
    "    iv = bytes.fromhex(\"dedca9742fa8613c6d42eabdea6edba7\")\n",
    "    \n",
    "    msg = \"Hello World!\".encode(\"utf8\")\n",
    "    iv, ct = enc_aes_ctr(key, msg, iv)\n",
    "\n",
    "    assert iv == bytes.fromhex(\"dedca9742fa8613c6d42eabdea6edba7\")\n",
    "    assert ct == bytes.fromhex(\"aa9169004da9689efa74f00d\")\n",
    "\n",
    "test_enc_aes_ctr()"
   ]
  },
  {
   "cell_type": "markdown",
   "metadata": {},
   "source": [
    "Implementirajte funkcijo `dec_aes_ctr(k, pt, iv)` skladno z navodili, podanimi v komentarju."
   ]
  },
  {
   "cell_type": "code",
   "execution_count": 73,
   "metadata": {
    "tags": []
   },
   "outputs": [],
   "source": [
    "def dec_aes_ctr(k, ct, iv):\n",
    "    \"\"\"Dešifrira čistopis s ključem in vrednostjo IV.\n",
    "    \n",
    "    Vrne čistopis.\"\"\"\n",
    "    \n",
    "    decryptor = Cipher(\n",
    "        algorithms.AES(k),\n",
    "        modes.CTR(iv)\n",
    "    ).decryptor()\n",
    "    \n",
    "    return decryptor.update(ct) + decryptor.finalize()"
   ]
  },
  {
   "cell_type": "code",
   "execution_count": 28,
   "metadata": {
    "tags": []
   },
   "outputs": [],
   "source": [
    "def test_dec_aes_ctr():  \n",
    "    key = bytes.fromhex(\"6141fb1142cd0611dd95798fd95352bb\")\n",
    "    iv = bytes.fromhex(\"dedca9742fa8613c6d42eabdea6edba7\")\n",
    "    ct = bytes.fromhex(\"aa9169004da9689efa74f00d\")\n",
    "    \n",
    "    pt = dec_aes_ctr(key, ct, iv)\n",
    "\n",
    "    assert pt == b\"Hello World!\"\n",
    "\n",
    "test_dec_aes_ctr()"
   ]
  },
  {
   "cell_type": "markdown",
   "metadata": {},
   "source": [
    "## Naloga 2: Šifriranje vsebine\n",
    "Uporabite implementirani funkciji iz prejšnje naloge in šifrirajte vsebino datoteke `data/ic-za-narodov-blagor.txt`.\n",
    "\n",
    "Vsebino nato shranite v datoteko `data/ic-za-narodov-blagor.txt.enc`. \n",
    "\n",
    "Ne pozabite: Poleg samega tajnopisa, morate v datoteko shraniti še IV. Dokaj standarden način je, da IV in nastali tajnopis konkatenirate in skupaj shranite v datoteko."
   ]
  },
  {
   "cell_type": "code",
   "execution_count": 76,
   "metadata": {
    "tags": []
   },
   "outputs": [],
   "source": [
    "def read_and_encrypt_file(filename):\n",
    "    \"\"\"Prebere vsebino datoteke `filename`, jo šifrira in zapiše nazaj disk. \n",
    "    \n",
    "    Ime šifrirane datoteke je enako kot nešifrirane, le da se doda še končnica `.enc`,\n",
    "    npr `data/ic-za-narodov-blagor.txt` se naj šifrira v  `data/ic-za-narodov-blagor.txt.enc`\"\"\""
   ]
  },
  {
   "cell_type": "markdown",
   "metadata": {},
   "source": [
    "Prepričajte se, da je implementacija pravilna, tako da implementirate novo funkcijo, ki prebere datoteko `data/ic-za-narodov-blagor.txt.enc`, vsebino dešifrira in jo primerja z vsebino datoteke `data/ic-za-narodov-blagor.txt`."
   ]
  },
  {
   "cell_type": "code",
   "execution_count": 75,
   "metadata": {
    "tags": []
   },
   "outputs": [],
   "source": [
    "def read_and_decrypt(filename):\n",
    "    \"\"\"Prebere vsebino datoteke `filename`, jo dešifrira in vrne čistopis.\"\"\""
   ]
  },
  {
   "cell_type": "code",
   "execution_count": 77,
   "metadata": {
    "tags": []
   },
   "outputs": [],
   "source": [
    "def test_enc_dec_file():\n",
    "    # šifriramo in shranimo na disk\n",
    "    read_and_encrypt_file(\"data/ic-za-narodov-blagor.txt\")\n",
    "    \n",
    "    # preberemo in dešifriramo \n",
    "    pt = read_and_decrypt(\"data/ic-za-narodov-blagor.txt.enc\")\n",
    "    \n",
    "    with open(\"data/ic-za-narodov-blagor.txt\", \"rb\") as h:\n",
    "        data = h.read()\n",
    "    \n",
    "    assert data == pt    "
   ]
  },
  {
   "cell_type": "markdown",
   "metadata": {},
   "source": [
    "## Naloga 2: Šifriranje s AES-CBC"
   ]
  },
  {
   "cell_type": "code",
   "execution_count": 67,
   "metadata": {
    "tags": []
   },
   "outputs": [],
   "source": [
    "from cryptography.hazmat.primitives import padding"
   ]
  },
  {
   "cell_type": "code",
   "execution_count": 29,
   "metadata": {
    "tags": []
   },
   "outputs": [],
   "source": [
    "def enc_aes_cbc(k, pt, iv):\n",
    "    \"\"\"Šifrira čistopis s ključem.\n",
    "    \n",
    "    Če IV ni podan, ustvari naključnega.\n",
    "    Kot rezultat vrne par (IV, tajnopis).\"\"\"\n",
    "    \n",
    "    cipher = Cipher(algorithms.AES(k), modes.CBC(iv))\n",
    "    encryptor = cipher.encryptor()\n",
    "    \n",
    "    padder = padding.PKCS7(128).padder()\n",
    "    pt = padder.update(pt) + padder.finalize()\n",
    "    \n",
    "    ct = encryptor.update(pt) + encryptor.finalize()\n",
    "\n",
    "    return iv, ct"
   ]
  },
  {
   "cell_type": "code",
   "execution_count": 30,
   "metadata": {
    "tags": []
   },
   "outputs": [],
   "source": [
    "def test_enc_aes_cbc():   \n",
    "    key = bytes.fromhex(\"6141fb1142cd0611dd95798fd95352bb\")\n",
    "    iv = bytes.fromhex(\"dedca9742fa8613c6d42eabdea6edba7\")\n",
    "    \n",
    "    msg = \"Hello World!\".encode(\"utf8\")\n",
    "    iv, ct = enc_aes_cbc(key, msg, iv)\n",
    "    \n",
    "    assert iv == bytes.fromhex(\"dedca9742fa8613c6d42eabdea6edba7\")\n",
    "    assert ct == bytes.fromhex(\"1fc519b6a47b3c562d905965e6e2f465\")\n",
    "\n",
    "test_enc_aes_cbc()"
   ]
  },
  {
   "cell_type": "code",
   "execution_count": 31,
   "metadata": {
    "tags": []
   },
   "outputs": [],
   "source": [
    "def dec_aes_cbc(k, ct, iv):\n",
    "    \"\"\"Dešifrira tajnopis s ključem in vrednostjo IV\"\"\"\n",
    "    \n",
    "    cipher = Cipher(algorithms.AES(k), modes.CBC(iv))\n",
    "    dec = cipher.decryptor()\n",
    "    \n",
    "    pt = dec.update(ct) + dec.finalize()\n",
    "    \n",
    "    padder = padding.PKCS7(128).unpadder()\n",
    "    pt = padder.update(pt) + padder.finalize()\n",
    "    \n",
    "    return pt"
   ]
  },
  {
   "cell_type": "code",
   "execution_count": 32,
   "metadata": {
    "tags": []
   },
   "outputs": [],
   "source": [
    "def test_dec_aes_cbc():  \n",
    "    key = bytes.fromhex(\"6141fb1142cd0611dd95798fd95352bb\")\n",
    "    iv = bytes.fromhex(\"dedca9742fa8613c6d42eabdea6edba7\")\n",
    "    ct = bytes.fromhex(\"1fc519b6a47b3c562d905965e6e2f465\")\n",
    "    \n",
    "    pt = dec_aes_cbc(key, ct, iv)\n",
    "\n",
    "    assert pt == b\"Hello World!\"\n",
    "\n",
    "test_dec_aes_cbc()"
   ]
  },
  {
   "cell_type": "markdown",
   "metadata": {},
   "source": [
    "## Naloga 3: Šifra enkratne podloge (OTP)"
   ]
  },
  {
   "cell_type": "markdown",
   "metadata": {},
   "source": [
    "## Naloga 5: Napad na večkratno podlogo\n",
    "\n",
    "Poglejmo, kaj lahko naredi napadalec, če isto podlogo uporabimo za šifriranje več sporočil."
   ]
  },
  {
   "cell_type": "markdown",
   "metadata": {},
   "source": [
    "### Naloga 5.1: Delno dešifriranje\n",
    "\n",
    "Za začetek si pripravimo implementacijo dešifriranega algoritma, ki dešifrira tajnopis tudi, če nam kakšen del ključa manjka. Dešifrirani algoritem naj dešifrira kot običajno, edina izjema so znaki, ki je vrednost ključa enaka 0. V tem primeru, naj kot pripadajoč znak v tajnopisu nastavi vrednost `*`."
   ]
  },
  {
   "cell_type": "code",
   "execution_count": null,
   "metadata": {
    "tags": []
   },
   "outputs": [],
   "source": [
    "def dec_otp_partial(key, ct):\n",
    "    \"\"\"Desifrira samo tiste znake, kjer kljuc ni 0 -- ce je, kot znak nastavi simbol *\"\"\"\n",
    "    pass\n",
    "\n",
    "dec_otp_partial(\n",
    "    bytes.fromhex(\"0000ebcbc0b2ad0d15c6be1f6259fd89495451fc0000cd8dad40c480a87bbb3a7525a9ba4abb930000\"),\n",
    "    bytes.fromhex(\"784880b9a1c6c36c35b6d17b0e369ae8693e34dc522abde2c12eaba0dc1ad15414056c1b23dde16539\")\n",
    ").decode(\"utf8\")"
   ]
  },
  {
   "cell_type": "code",
   "execution_count": null,
   "metadata": {
    "tags": []
   },
   "outputs": [],
   "source": [
    "assert dec_otp_partial([1, 0, 1], [2, 2, 2]) == bytes([3, ord(\"*\"), 3])\n",
    "assert dec_otp_partial([1, 1, 1], [2, 2, 2]) == dec_otp([1, 1, 1], [2, 2, 2])"
   ]
  },
  {
   "cell_type": "markdown",
   "metadata": {},
   "source": [
    "### Tajnopisi\n",
    "\n",
    "Tajnopisi so shranjeni v binarni obliki v datotekah `data/ct_i.bin`. Preberimo jih z diska."
   ]
  },
  {
   "cell_type": "code",
   "execution_count": null,
   "metadata": {
    "tags": []
   },
   "outputs": [],
   "source": [
    "def load_cts():\n",
    "    cipher_texts = []\n",
    "    for i in range(10):\n",
    "        with open(f\"data/ct_{i}.bin\", \"rb\") as h:\n",
    "            cipher_texts.append(h.read())\n",
    "    return cipher_texts\n",
    "\n",
    "cipher_texts = load_cts()\n",
    "\n",
    "print(\"Izpis prvih 50 bajtov tajnopisa šestnajstiško\")\n",
    "for i, c in enumerate(cipher_texts):\n",
    "    print(f\"Tajnopis {i}, dolžina {len(c)}:  {c.hex()[:100]}...\")"
   ]
  },
  {
   "cell_type": "markdown",
   "metadata": {},
   "source": [
    "Opazimo, da so vsi tajnopisi dolgi 109 bajtov. \n",
    "\n",
    "Vaša naloga je, da ugotovite ključ in z njim dešifrirajte sporočila. Pri tem lahko upoštevate še, da so sporočila v Slovenščini ter sestojijo le iz malih črk in presledkov: šumniki, števke in vsa ostala ločila so odstranjeni."
   ]
  },
  {
   "cell_type": "markdown",
   "metadata": {},
   "source": [
    "### Naloga 5.2: Funkcija `multiple_xor(pos, cts)`\n",
    "\n",
    "Implementirajte funkcijo `multiple_xor(pos, cts)`, ki na vhodu prejme pozicijo znaka v tajnopisu in seznam tajnopisov. Metoda nato vrne bajt ključa oz. vrednost 0, če določi, da bajta v ključu na dani poziciji ni mogoče ugotoviti.\n",
    "\n",
    "Namig: implementacija je dokaj kratka, če uporabite vgrajeno funkcijo `all`. V nasprotnem primeru boste potrebovali vgnezdeno zanko."
   ]
  },
  {
   "cell_type": "code",
   "execution_count": null,
   "metadata": {
    "tags": []
   },
   "outputs": [],
   "source": [
    "def multiple_xor(pos, cts):\n",
    "    pass\n",
    "\n",
    "\n",
    "def test_multiple_xor():\n",
    "    \"\"\"Testira implementacijo funkcije multiple_xor\n",
    "    \n",
    "    Če ne vrne napake, je implementacija pravilna\"\"\"\n",
    "    \n",
    "    test_key = bytes.fromhex(\"cd04c883d62ca6e58f3cc3c554bc77\")\n",
    "    test_cts = [\n",
    "      enc_otp(test_key, \"v ponedeljek in\".encode(\"ascii\")),\n",
    "      enc_otp(test_key, \"ob uri na mestu\".encode(\"ascii\")),\n",
    "      enc_otp(test_key, \"zelo nenavadno \".encode(\"ascii\"))\n",
    "    ]\n",
    "\n",
    "    assert multiple_xor(0, test_cts) == 0\n",
    "    assert multiple_xor(1, test_cts) == test_key[1]\n",
    "    assert multiple_xor(2, test_cts) == test_key[2]\n",
    "    assert multiple_xor(3, test_cts) == 0\n",
    "    assert multiple_xor(4, test_cts) == test_key[4]\n",
    "    assert multiple_xor(5, test_cts) == 0\n",
    "    assert multiple_xor(6, test_cts) == test_key[6]\n",
    "    assert multiple_xor(7, test_cts) == 0\n",
    "    assert multiple_xor(8, test_cts) == 0\n",
    "    assert multiple_xor(9, test_cts) == test_key[9]\n",
    "    assert multiple_xor(10, test_cts) == 0\n",
    "    assert multiple_xor(11, test_cts) == 0\n",
    "    assert multiple_xor(12, test_cts) == test_key[12]\n",
    "    assert multiple_xor(13, test_cts) == 0\n",
    "    assert multiple_xor(14, test_cts) == test_key[14]\n",
    "    \n",
    "test_multiple_xor()"
   ]
  },
  {
   "cell_type": "markdown",
   "metadata": {},
   "source": [
    "### Naloga 5.3: Funkcija `guess_key(cts)`\n",
    "\n",
    "Implementirajte funkcijo `guess_key(cts)`, ki na vhodu prejme seznam tajnopisov in nato vrne seznam bajtov, ki predstavljajo ključ, s katerim so bili tajnopisi ustvarjeni. V primeri, da kakšen bajt v ključu ni mogoče ugotoviti, nastavite njegovo vrednost na 0."
   ]
  },
  {
   "cell_type": "code",
   "execution_count": null,
   "metadata": {
    "tags": []
   },
   "outputs": [],
   "source": [
    "def guess_key(ciphertexts):\n",
    "    pass\n",
    "\n",
    "\n",
    "gk = guess_key(cipher_texts)\n",
    "for c in cipher_texts:\n",
    "    print(dec_otp_partial(gk, c).decode(\"ascii\"))"
   ]
  },
  {
   "cell_type": "markdown",
   "metadata": {},
   "source": [
    "Nekatere bajte v ključih ugotovi algoritem, ostale pa poskusite dopolniti sami. "
   ]
  },
  {
   "cell_type": "markdown",
   "metadata": {},
   "source": [
    "## Naloga 6: Gnetljivost tajnopisa\n",
    "\n",
    "Pri zadnji nalogi bomo kot napadalec spremenili tajnopis, tako da bo sprememba vidna v čistopisu. Zgodba je sledeča.\n",
    "\n",
    "Ana želi poslati zaupno pošto Boru, vas, ki igrate vlogo napadalca Nandija, pa vsebina sporočila _zares_ zanima.\n",
    "\n",
    "Na srečo vam gre nekaj reči na roko. \n",
    "\n",
    "Prvič, Anin računalnik nima internetne povezave, vaš mobilni telefon pa. Zato ji prijazno ponudite, da zanjo postavite mobilno dostopno točko, preko katere se bo lahko povezala v internet in dostopala do poštnega strežnika. Poštni strežnik bo nato sporočilo dostavil Boru. \n",
    "\n",
    "Ana in Bor uporabljata poseben protokol za pošto: protokol FMTP -- Funny Mail Transfer Protocol.  Gre za preprost besedilno-osnovan protokol: prva vrstica označuje naslov prejemnika, druga naslov pošiljatelja, tretja zadevo, četrta je vedno prazna in na koncu je sporočilo.\n",
    "\n",
    "Vse, kar mora Anin poštni odjemalec storiti, da pošlje sporočilo, je, da strežniku FMTP dostavi besedilni niz, podoben naslednjemu.\n",
    "\n",
    "```txt\n",
    "prejemnik@enadomena.com\n",
    "posiljatelj@drugadomena.com\n",
    "Zadeva sporocila\n",
    "\n",
    "<Samo sporocilo>\n",
    "```\n",
    "\n",
    "Vse morebitne predhodne ali zaključne presledke v vsaki vrstici poštni strežnik ignorira oz. odstrani pred obdelavo. Na primer, e-pošto zgoraj bi lahko napisali kot spodnjo in ne bi bilo nobene razlike.\n",
    "\n",
    "\n",
    "```txt\n",
    "                    prejemnik@enadomena.com               \n",
    "    posiljatelj@drugadomena.com                    \n",
    "Zadeva sporocila\n",
    "\n",
    "<Samo sporocilo>\n",
    "```\n",
    "\n",
    "Tretjič, Ana vam v dobri veri -- kakšna naivnost! -- pove, da pošilja elektronsko sporočilo Boru in da uporablja protokol FMTP. (Torej poznate strukturo sporočila in vsebino prve vrstice čistopisa.)\n",
    "\n",
    "Četrtič, Ana uporablja enkratno podlogo, mehanizmov za zagotavljanje celovitosti pa ni.\n",
    "\n",
    "Ker nastopate v vlogi **posrednika**, lahko sedaj spremenite sporočilo tako, da strežnik FMTP ne bo poslal pošte Boru, temveč jo bo poslal na naslov, ki ga nadzirate vi, npr. `nandi@obvlada.si`."
   ]
  },
  {
   "cell_type": "code",
   "execution_count": null,
   "metadata": {
    "tags": []
   },
   "outputs": [],
   "source": [
    "# Ana in Bor si enkrat tedensko v zivo izmenjata 1000 bajtov\n",
    "# nakljucnih vrednosti za morebitne potrebe sifriranja\n",
    "ana_bor_psk = gen_key(1000)"
   ]
  },
  {
   "cell_type": "code",
   "execution_count": null,
   "metadata": {
    "tags": []
   },
   "outputs": [],
   "source": [
    "# Ana pripravi sporočilo\n",
    "email = \"\"\"bor@student.uni-lj.si\n",
    "ana@student.uni-lj.si\n",
    "Hej\n",
    "\n",
    "Na faksu si pozabil kapo.\"\"\".strip()\n",
    "\n",
    "# In ga šifrira z enkratno podlogo\n",
    "ct = enc_otp(ana_bor_psk, email.encode(\"utf8\"))\n",
    "\n",
    "# Nato ga pošlje (to simuliramo) na streznik FMTP\n",
    "print(\"Ana pošilja šifrirano sporočilo na strežnik\")\n",
    "print(\"Tajnopis (HEX):\", ct.hex())"
   ]
  },
  {
   "cell_type": "markdown",
   "metadata": {},
   "source": [
    "Sedaj je na potezi napadalec Nandi.\n",
    "\n",
    "Implementirajte funckijo `change_ct(ct, new_email)`, ki na vhodu prejme tajnopis in email naslov. Spremenite tajnopis tako, da ga bo strežnik FMTP še vedno brez dešifriral, a kot prejemnik ne bo naveden Bor, temveč email naslov, ki je podan v argumentu `new_email`. Predpostavite lahko, da bo `new_email` vedno krajši ali enak od naslova `bor@student.uni-lj.si`."
   ]
  },
  {
   "cell_type": "code",
   "execution_count": null,
   "metadata": {
    "tags": []
   },
   "outputs": [],
   "source": [
    "def change_ct(ct, new_email):\n",
    "    pass"
   ]
  },
  {
   "cell_type": "markdown",
   "metadata": {},
   "source": [
    "S poganjanjem spodnje celice lahko preverite, ali vaša funkcija deluje pravilno. "
   ]
  },
  {
   "cell_type": "code",
   "execution_count": null,
   "metadata": {
    "tags": []
   },
   "outputs": [],
   "source": [
    "def fmtp_receive(key, ct):\n",
    "    print(\"Streznik FMTP prejel sporocilo:\", ct.hex())\n",
    "    pt = dec_otp(key, ct)\n",
    "    print(\"Desifrirano sporocilo:\")\n",
    "    print(pt.decode(\"utf8\"))\n",
    "\n",
    "fmtp_receive(ana_bor_psk, change_ct(ct, \"nandi@obvlada.si\"))"
   ]
  }
 ],
 "metadata": {
  "kernelspec": {
   "display_name": "Python 3 (ipykernel)",
   "language": "python",
   "name": "python3"
  },
  "language_info": {
   "codemirror_mode": {
    "name": "ipython",
    "version": 3
   },
   "file_extension": ".py",
   "mimetype": "text/x-python",
   "name": "python",
   "nbconvert_exporter": "python",
   "pygments_lexer": "ipython3",
   "version": "3.10.12"
  }
 },
 "nbformat": 4,
 "nbformat_minor": 4
}
