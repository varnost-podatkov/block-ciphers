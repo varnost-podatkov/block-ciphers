{
 "cells": [
  {
   "cell_type": "markdown",
   "metadata": {},
   "source": [
    "# Bločne šifre\n",
    "\n",
    "Cilji laboratorijske vaje so sledeči:\n",
    "- TODO"
   ]
  },
  {
   "cell_type": "markdown",
   "metadata": {},
   "source": [
    "## Ustvarjanje pravih naključnih vrednosti"
   ]
  },
  {
   "cell_type": "markdown",
   "metadata": {},
   "source": [
    "Naključne vrednosti bomo v Pythonu ustvarili s pomočjo modula `secrets`. [Povezava na dokumentacijo.](https://docs.python.org/3/library/secrets.html)\n",
    "\n",
    "Najprej modul uvozimo, nato pa imlementiramo funkcijo, katera ustvari seznam naključnih bajtov za podano dolžino."
   ]
  },
  {
   "cell_type": "code",
   "execution_count": 1,
   "metadata": {
    "tags": []
   },
   "outputs": [],
   "source": [
    "import secrets, os"
   ]
  },
  {
   "cell_type": "markdown",
   "metadata": {},
   "source": [
    "Npr. pridobimo 16 bajtov za simetrični ključ ali za vrednost NONCE ali IV."
   ]
  },
  {
   "cell_type": "raw",
   "metadata": {
    "tags": []
   },
   "source": [
    "key = secrets.token_bytes(16)\n",
    "iv = secrets.token_bytes(16)\n",
    "nonce = secrets.token_bytes(16)\n",
    "\n",
    "print(f\"Key: {key.hex()}\")\n",
    "print(f\"IV: {iv.hex()}\")\n",
    "print(f\"NONCe: {nonce.hex()}\")"
   ]
  },
  {
   "cell_type": "markdown",
   "metadata": {},
   "source": [
    "## Naloga 1: Šifriranje s AES-CTR"
   ]
  },
  {
   "cell_type": "code",
   "execution_count": 2,
   "metadata": {
    "tags": []
   },
   "outputs": [],
   "source": [
    "from cryptography.hazmat.primitives.ciphers import Cipher, algorithms, modes\n",
    "from cryptography.hazmat.primitives import padding"
   ]
  },
  {
   "cell_type": "code",
   "execution_count": 14,
   "metadata": {
    "tags": []
   },
   "outputs": [],
   "source": [
    "def enc_aes_ctr(k, pt, iv=None):\n",
    "    \"\"\"Šifrira čistopis s ključem.\n",
    "    \n",
    "    Če IV ni podan, ustvari naključnega.\n",
    "    Kot rezultat vrne par (IV, tajnopis).\"\"\"\n",
    "    \n",
    "    if not iv:\n",
    "        iv = secrets.token_bytes(16)\n",
    "    \n",
    "    cipher = Cipher(algorithms.AES(k), modes.CTR(iv))\n",
    "    encryptor = cipher.encryptor()\n",
    "    ct = encryptor.update(pt) + encryptor.finalize()\n",
    "\n",
    "    return iv, ct"
   ]
  },
  {
   "cell_type": "code",
   "execution_count": 4,
   "metadata": {
    "tags": []
   },
   "outputs": [],
   "source": [
    "def test_enc_aes_ctr():   \n",
    "    key = bytes.fromhex(\"6141fb1142cd0611dd95798fd95352bb\")\n",
    "    iv = bytes.fromhex(\"dedca9742fa8613c6d42eabdea6edba7\")\n",
    "    \n",
    "    msg = \"Hello World!\".encode(\"utf8\")\n",
    "    iv, ct = enc_aes_ctr(key, msg, iv)\n",
    "\n",
    "    assert iv == bytes.fromhex(\"dedca9742fa8613c6d42eabdea6edba7\")\n",
    "    assert ct == bytes.fromhex(\"aa9169004da9689efa74f00d\")\n",
    "\n",
    "test_enc_aes_ctr()"
   ]
  },
  {
   "cell_type": "code",
   "execution_count": 11,
   "metadata": {
    "tags": []
   },
   "outputs": [],
   "source": [
    "def dec_aes_ctr(k, ct, iv):\n",
    "    \"\"\"Dešifrira čistopis s ključem in vrednostjo IV\"\"\"\n",
    "    \n",
    "    decryptor = Cipher(\n",
    "        algorithms.AES(k),\n",
    "        modes.CTR(iv)\n",
    "    ).decryptor()\n",
    "    \n",
    "    return decryptor.update(ct) + decryptor.finalize()"
   ]
  },
  {
   "cell_type": "code",
   "execution_count": 6,
   "metadata": {
    "tags": []
   },
   "outputs": [],
   "source": [
    "def test_dec_aes_ctr():  \n",
    "    key = bytes.fromhex(\"6141fb1142cd0611dd95798fd95352bb\")\n",
    "    iv = bytes.fromhex(\"dedca9742fa8613c6d42eabdea6edba7\")\n",
    "    ct = bytes.fromhex(\"aa9169004da9689efa74f00d\")\n",
    "    \n",
    "    pt = dec_aes_ctr(key, ct, iv)\n",
    "\n",
    "    assert pt == b\"Hello World!\"\n",
    "\n",
    "test_dec_aes_ctr()"
   ]
  },
  {
   "cell_type": "markdown",
   "metadata": {},
   "source": [
    "## Naloga 2: Šifriranje s AES-CBC"
   ]
  },
  {
   "cell_type": "code",
   "execution_count": 12,
   "metadata": {
    "tags": []
   },
   "outputs": [],
   "source": [
    "def enc_aes_cbc(k, pt, iv):\n",
    "    \"\"\"Šifrira čistopis s ključem.\n",
    "    \n",
    "    Če IV ni podan, ustvari naključnega.\n",
    "    Kot rezultat vrne par (IV, tajnopis).\"\"\"\n",
    "    \n",
    "    cipher = Cipher(algorithms.AES(k), modes.CBC(iv))\n",
    "    encryptor = cipher.encryptor()\n",
    "    \n",
    "    padder = padding.PKCS7(128).padder()\n",
    "    pt = padder.update(pt) + padder.finalize()\n",
    "    \n",
    "    ct = encryptor.update(pt) + encryptor.finalize()\n",
    "\n",
    "    return iv, ct"
   ]
  },
  {
   "cell_type": "code",
   "execution_count": 13,
   "metadata": {
    "tags": []
   },
   "outputs": [],
   "source": [
    "def test_enc_aes_cbc():   \n",
    "    key = bytes.fromhex(\"6141fb1142cd0611dd95798fd95352bb\")\n",
    "    iv = bytes.fromhex(\"dedca9742fa8613c6d42eabdea6edba7\")\n",
    "    \n",
    "    msg = \"Hello World!\".encode(\"utf8\")\n",
    "    iv, ct = enc_aes_cbc(key, msg, iv)\n",
    "    \n",
    "    assert iv == bytes.fromhex(\"dedca9742fa8613c6d42eabdea6edba7\")\n",
    "    assert ct == bytes.fromhex(\"1fc519b6a47b3c562d905965e6e2f465\")\n",
    "\n",
    "test_enc_aes_cbc()"
   ]
  },
  {
   "cell_type": "code",
   "execution_count": 9,
   "metadata": {
    "tags": []
   },
   "outputs": [],
   "source": [
    "def dec_aes_cbc(k, ct, iv):\n",
    "    \"\"\"Dešifrira tajnopis s ključem in vrednostjo IV\"\"\"\n",
    "    \n",
    "    cipher = Cipher(algorithms.AES(k), modes.CBC(iv))\n",
    "    dec = cipher.decryptor()\n",
    "    \n",
    "    pt = dec.update(ct) + dec.finalize()\n",
    "    \n",
    "    padder = padding.PKCS7(128).unpadder()\n",
    "    pt = padder.update(pt) + padder.finalize()\n",
    "    \n",
    "    return pt"
   ]
  },
  {
   "cell_type": "code",
   "execution_count": 10,
   "metadata": {
    "tags": []
   },
   "outputs": [],
   "source": [
    "def test_dec_aes_cbc():  \n",
    "    key = bytes.fromhex(\"6141fb1142cd0611dd95798fd95352bb\")\n",
    "    iv = bytes.fromhex(\"dedca9742fa8613c6d42eabdea6edba7\")\n",
    "    ct = bytes.fromhex(\"1fc519b6a47b3c562d905965e6e2f465\")\n",
    "    \n",
    "    pt = dec_aes_cbc(key, ct, iv)\n",
    "\n",
    "    assert pt == b\"Hello World!\"\n",
    "\n",
    "test_dec_aes_cbc()"
   ]
  },
  {
   "cell_type": "markdown",
   "metadata": {},
   "source": [
    "## Naloga 3: Šifra enkratne podloge (OTP)"
   ]
  },
  {
   "cell_type": "markdown",
   "metadata": {},
   "source": [
    "Implementirajte šifrirni in dešifrirni algorite enkratne podloge. Če uporabite rešitev iz prve naloge, bo implementacija trivialno kratka."
   ]
  },
  {
   "cell_type": "code",
   "execution_count": null,
   "metadata": {
    "tags": []
   },
   "outputs": [],
   "source": [
    "def enc_otp(key, pt):\n",
    "    \"\"\"Sifrirni algoritem enkratne podloge\"\"\"\n",
    "    pass"
   ]
  },
  {
   "cell_type": "code",
   "execution_count": null,
   "metadata": {
    "tags": []
   },
   "outputs": [],
   "source": [
    "assert enc_otp([1, 2, 3], [1, 1, 1]) == xor_bytes([1, 2, 3], [1, 1, 1])"
   ]
  },
  {
   "cell_type": "code",
   "execution_count": null,
   "metadata": {
    "tags": []
   },
   "outputs": [],
   "source": [
    "def dec_otp(key, ct):\n",
    "    \"\"\"Desifrirni algoritem enkratne podloge\"\"\"\n",
    "    pass"
   ]
  },
  {
   "cell_type": "code",
   "execution_count": null,
   "metadata": {
    "tags": []
   },
   "outputs": [],
   "source": [
    "assert dec_otp([1, 2, 3], [1, 1, 1]) == xor_bytes([1, 2, 3], [1, 1, 1])"
   ]
  },
  {
   "cell_type": "markdown",
   "metadata": {},
   "source": [
    "## Naloga 4: Šifriranje in dešifriranje\n",
    "\n",
    "Uporabite metodi šifriranja in dešifriranja iz prejšnje naloge in zašifrirajte sporočilo `Enkratna podloga je popolno tajna šifra.` \n",
    "\n",
    "Implementacijo šifriranja podajte v telesu funkcije `example_enc()`. Za ključ uporabite vrednost `3d26ebcbc0b2ad0d15c6be1f6259fd89495451fc2245cd8dad40c480a87bbb3a7525a9ba4abb930417`. Pozor: podano vrednost ključa je potrebno prebrati kot seznam bajtov. To storite s pomočjo funkcije `bytes.fromhex(...)`."
   ]
  },
  {
   "cell_type": "code",
   "execution_count": null,
   "metadata": {
    "tags": []
   },
   "outputs": [],
   "source": [
    "def example_enc():\n",
    "    pass\n",
    "\n",
    "example_enc()"
   ]
  },
  {
   "cell_type": "code",
   "execution_count": null,
   "metadata": {
    "tags": []
   },
   "outputs": [],
   "source": [
    "assert example_enc().hex() == \"784880b9a1c6c36c35b6d17b0e369ae8693e34dc522abde2c12eaba0dc1ad15414056c1b23dde16539\""
   ]
  },
  {
   "cell_type": "markdown",
   "metadata": {},
   "source": [
    "V telesu funkcije `example_dec()` dešifrirajte sporočilo `784880b9a1c6c36c35b6d17b0e369ae8693e34dc522abde2c12eaba0dc1ad15414056c1b23dde16539` in pri tem uporabite isti ključ kot ste ga pri šifriranju."
   ]
  },
  {
   "cell_type": "code",
   "execution_count": null,
   "metadata": {
    "tags": []
   },
   "outputs": [],
   "source": [
    "def example_dec():\n",
    "    pass\n",
    "\n",
    "example_dec().decode(\"utf8\")"
   ]
  },
  {
   "cell_type": "code",
   "execution_count": null,
   "metadata": {
    "tags": []
   },
   "outputs": [],
   "source": [
    "assert example_dec().decode(\"utf8\") == \"Enkratna podloga je popolno tajna šifra.\""
   ]
  },
  {
   "cell_type": "markdown",
   "metadata": {},
   "source": [
    "## Naloga 5: Napad na večkratno podlogo\n",
    "\n",
    "Poglejmo, kaj lahko naredi napadalec, če isto podlogo uporabimo za šifriranje več sporočil."
   ]
  },
  {
   "cell_type": "markdown",
   "metadata": {},
   "source": [
    "### Naloga 5.1: Delno dešifriranje\n",
    "\n",
    "Za začetek si pripravimo implementacijo dešifriranega algoritma, ki dešifrira tajnopis tudi, če nam kakšen del ključa manjka. Dešifrirani algoritem naj dešifrira kot običajno, edina izjema so znaki, ki je vrednost ključa enaka 0. V tem primeru, naj kot pripadajoč znak v tajnopisu nastavi vrednost `*`."
   ]
  },
  {
   "cell_type": "code",
   "execution_count": null,
   "metadata": {
    "tags": []
   },
   "outputs": [],
   "source": [
    "def dec_otp_partial(key, ct):\n",
    "    \"\"\"Desifrira samo tiste znake, kjer kljuc ni 0 -- ce je, kot znak nastavi simbol *\"\"\"\n",
    "    pass\n",
    "\n",
    "dec_otp_partial(\n",
    "    bytes.fromhex(\"0000ebcbc0b2ad0d15c6be1f6259fd89495451fc0000cd8dad40c480a87bbb3a7525a9ba4abb930000\"),\n",
    "    bytes.fromhex(\"784880b9a1c6c36c35b6d17b0e369ae8693e34dc522abde2c12eaba0dc1ad15414056c1b23dde16539\")\n",
    ").decode(\"utf8\")"
   ]
  },
  {
   "cell_type": "code",
   "execution_count": null,
   "metadata": {
    "tags": []
   },
   "outputs": [],
   "source": [
    "assert dec_otp_partial([1, 0, 1], [2, 2, 2]) == bytes([3, ord(\"*\"), 3])\n",
    "assert dec_otp_partial([1, 1, 1], [2, 2, 2]) == dec_otp([1, 1, 1], [2, 2, 2])"
   ]
  },
  {
   "cell_type": "markdown",
   "metadata": {},
   "source": [
    "### Tajnopisi\n",
    "\n",
    "Tajnopisi so shranjeni v binarni obliki v datotekah `data/ct_i.bin`. Preberimo jih z diska."
   ]
  },
  {
   "cell_type": "code",
   "execution_count": null,
   "metadata": {
    "tags": []
   },
   "outputs": [],
   "source": [
    "def load_cts():\n",
    "    cipher_texts = []\n",
    "    for i in range(10):\n",
    "        with open(f\"data/ct_{i}.bin\", \"rb\") as h:\n",
    "            cipher_texts.append(h.read())\n",
    "    return cipher_texts\n",
    "\n",
    "cipher_texts = load_cts()\n",
    "\n",
    "print(\"Izpis prvih 50 bajtov tajnopisa šestnajstiško\")\n",
    "for i, c in enumerate(cipher_texts):\n",
    "    print(f\"Tajnopis {i}, dolžina {len(c)}:  {c.hex()[:100]}...\")"
   ]
  },
  {
   "cell_type": "markdown",
   "metadata": {},
   "source": [
    "Opazimo, da so vsi tajnopisi dolgi 109 bajtov. \n",
    "\n",
    "Vaša naloga je, da ugotovite ključ in z njim dešifrirajte sporočila. Pri tem lahko upoštevate še, da so sporočila v Slovenščini ter sestojijo le iz malih črk in presledkov: šumniki, števke in vsa ostala ločila so odstranjeni."
   ]
  },
  {
   "cell_type": "markdown",
   "metadata": {},
   "source": [
    "### Naloga 5.2: Funkcija `multiple_xor(pos, cts)`\n",
    "\n",
    "Implementirajte funkcijo `multiple_xor(pos, cts)`, ki na vhodu prejme pozicijo znaka v tajnopisu in seznam tajnopisov. Metoda nato vrne bajt ključa oz. vrednost 0, če določi, da bajta v ključu na dani poziciji ni mogoče ugotoviti.\n",
    "\n",
    "Namig: implementacija je dokaj kratka, če uporabite vgrajeno funkcijo `all`. V nasprotnem primeru boste potrebovali vgnezdeno zanko."
   ]
  },
  {
   "cell_type": "code",
   "execution_count": null,
   "metadata": {
    "tags": []
   },
   "outputs": [],
   "source": [
    "def multiple_xor(pos, cts):\n",
    "    pass\n",
    "\n",
    "\n",
    "def test_multiple_xor():\n",
    "    \"\"\"Testira implementacijo funkcije multiple_xor\n",
    "    \n",
    "    Če ne vrne napake, je implementacija pravilna\"\"\"\n",
    "    \n",
    "    test_key = bytes.fromhex(\"cd04c883d62ca6e58f3cc3c554bc77\")\n",
    "    test_cts = [\n",
    "      enc_otp(test_key, \"v ponedeljek in\".encode(\"ascii\")),\n",
    "      enc_otp(test_key, \"ob uri na mestu\".encode(\"ascii\")),\n",
    "      enc_otp(test_key, \"zelo nenavadno \".encode(\"ascii\"))\n",
    "    ]\n",
    "\n",
    "    assert multiple_xor(0, test_cts) == 0\n",
    "    assert multiple_xor(1, test_cts) == test_key[1]\n",
    "    assert multiple_xor(2, test_cts) == test_key[2]\n",
    "    assert multiple_xor(3, test_cts) == 0\n",
    "    assert multiple_xor(4, test_cts) == test_key[4]\n",
    "    assert multiple_xor(5, test_cts) == 0\n",
    "    assert multiple_xor(6, test_cts) == test_key[6]\n",
    "    assert multiple_xor(7, test_cts) == 0\n",
    "    assert multiple_xor(8, test_cts) == 0\n",
    "    assert multiple_xor(9, test_cts) == test_key[9]\n",
    "    assert multiple_xor(10, test_cts) == 0\n",
    "    assert multiple_xor(11, test_cts) == 0\n",
    "    assert multiple_xor(12, test_cts) == test_key[12]\n",
    "    assert multiple_xor(13, test_cts) == 0\n",
    "    assert multiple_xor(14, test_cts) == test_key[14]\n",
    "    \n",
    "test_multiple_xor()"
   ]
  },
  {
   "cell_type": "markdown",
   "metadata": {},
   "source": [
    "### Naloga 5.3: Funkcija `guess_key(cts)`\n",
    "\n",
    "Implementirajte funkcijo `guess_key(cts)`, ki na vhodu prejme seznam tajnopisov in nato vrne seznam bajtov, ki predstavljajo ključ, s katerim so bili tajnopisi ustvarjeni. V primeri, da kakšen bajt v ključu ni mogoče ugotoviti, nastavite njegovo vrednost na 0."
   ]
  },
  {
   "cell_type": "code",
   "execution_count": null,
   "metadata": {
    "tags": []
   },
   "outputs": [],
   "source": [
    "def guess_key(ciphertexts):\n",
    "    pass\n",
    "\n",
    "\n",
    "gk = guess_key(cipher_texts)\n",
    "for c in cipher_texts:\n",
    "    print(dec_otp_partial(gk, c).decode(\"ascii\"))"
   ]
  },
  {
   "cell_type": "markdown",
   "metadata": {},
   "source": [
    "Nekatere bajte v ključih ugotovi algoritem, ostale pa poskusite dopolniti sami. "
   ]
  },
  {
   "cell_type": "markdown",
   "metadata": {},
   "source": [
    "## Naloga 6: Gnetljivost tajnopisa\n",
    "\n",
    "Pri zadnji nalogi bomo kot napadalec spremenili tajnopis, tako da bo sprememba vidna v čistopisu. Zgodba je sledeča.\n",
    "\n",
    "Ana želi poslati zaupno pošto Boru, vas, ki igrate vlogo napadalca Nandija, pa vsebina sporočila _zares_ zanima.\n",
    "\n",
    "Na srečo vam gre nekaj reči na roko. \n",
    "\n",
    "Prvič, Anin računalnik nima internetne povezave, vaš mobilni telefon pa. Zato ji prijazno ponudite, da zanjo postavite mobilno dostopno točko, preko katere se bo lahko povezala v internet in dostopala do poštnega strežnika. Poštni strežnik bo nato sporočilo dostavil Boru. \n",
    "\n",
    "Ana in Bor uporabljata poseben protokol za pošto: protokol FMTP -- Funny Mail Transfer Protocol.  Gre za preprost besedilno-osnovan protokol: prva vrstica označuje naslov prejemnika, druga naslov pošiljatelja, tretja zadevo, četrta je vedno prazna in na koncu je sporočilo.\n",
    "\n",
    "Vse, kar mora Anin poštni odjemalec storiti, da pošlje sporočilo, je, da strežniku FMTP dostavi besedilni niz, podoben naslednjemu.\n",
    "\n",
    "```txt\n",
    "prejemnik@enadomena.com\n",
    "posiljatelj@drugadomena.com\n",
    "Zadeva sporocila\n",
    "\n",
    "<Samo sporocilo>\n",
    "```\n",
    "\n",
    "Vse morebitne predhodne ali zaključne presledke v vsaki vrstici poštni strežnik ignorira oz. odstrani pred obdelavo. Na primer, e-pošto zgoraj bi lahko napisali kot spodnjo in ne bi bilo nobene razlike.\n",
    "\n",
    "\n",
    "```txt\n",
    "                    prejemnik@enadomena.com               \n",
    "    posiljatelj@drugadomena.com                    \n",
    "Zadeva sporocila\n",
    "\n",
    "<Samo sporocilo>\n",
    "```\n",
    "\n",
    "Tretjič, Ana vam v dobri veri -- kakšna naivnost! -- pove, da pošilja elektronsko sporočilo Boru in da uporablja protokol FMTP. (Torej poznate strukturo sporočila in vsebino prve vrstice čistopisa.)\n",
    "\n",
    "Četrtič, Ana uporablja enkratno podlogo, mehanizmov za zagotavljanje celovitosti pa ni.\n",
    "\n",
    "Ker nastopate v vlogi **posrednika**, lahko sedaj spremenite sporočilo tako, da strežnik FMTP ne bo poslal pošte Boru, temveč jo bo poslal na naslov, ki ga nadzirate vi, npr. `nandi@obvlada.si`."
   ]
  },
  {
   "cell_type": "code",
   "execution_count": null,
   "metadata": {
    "tags": []
   },
   "outputs": [],
   "source": [
    "# Ana in Bor si enkrat tedensko v zivo izmenjata 1000 bajtov\n",
    "# nakljucnih vrednosti za morebitne potrebe sifriranja\n",
    "ana_bor_psk = gen_key(1000)"
   ]
  },
  {
   "cell_type": "code",
   "execution_count": null,
   "metadata": {
    "tags": []
   },
   "outputs": [],
   "source": [
    "# Ana pripravi sporočilo\n",
    "email = \"\"\"bor@student.uni-lj.si\n",
    "ana@student.uni-lj.si\n",
    "Hej\n",
    "\n",
    "Na faksu si pozabil kapo.\"\"\".strip()\n",
    "\n",
    "# In ga šifrira z enkratno podlogo\n",
    "ct = enc_otp(ana_bor_psk, email.encode(\"utf8\"))\n",
    "\n",
    "# Nato ga pošlje (to simuliramo) na streznik FMTP\n",
    "print(\"Ana pošilja šifrirano sporočilo na strežnik\")\n",
    "print(\"Tajnopis (HEX):\", ct.hex())"
   ]
  },
  {
   "cell_type": "markdown",
   "metadata": {},
   "source": [
    "Sedaj je na potezi napadalec Nandi.\n",
    "\n",
    "Implementirajte funckijo `change_ct(ct, new_email)`, ki na vhodu prejme tajnopis in email naslov. Spremenite tajnopis tako, da ga bo strežnik FMTP še vedno brez dešifriral, a kot prejemnik ne bo naveden Bor, temveč email naslov, ki je podan v argumentu `new_email`. Predpostavite lahko, da bo `new_email` vedno krajši ali enak od naslova `bor@student.uni-lj.si`."
   ]
  },
  {
   "cell_type": "code",
   "execution_count": null,
   "metadata": {
    "tags": []
   },
   "outputs": [],
   "source": [
    "def change_ct(ct, new_email):\n",
    "    pass"
   ]
  },
  {
   "cell_type": "markdown",
   "metadata": {},
   "source": [
    "S poganjanjem spodnje celice lahko preverite, ali vaša funkcija deluje pravilno. "
   ]
  },
  {
   "cell_type": "code",
   "execution_count": null,
   "metadata": {
    "tags": []
   },
   "outputs": [],
   "source": [
    "def fmtp_receive(key, ct):\n",
    "    print(\"Streznik FMTP prejel sporocilo:\", ct.hex())\n",
    "    pt = dec_otp(key, ct)\n",
    "    print(\"Desifrirano sporocilo:\")\n",
    "    print(pt.decode(\"utf8\"))\n",
    "\n",
    "fmtp_receive(ana_bor_psk, change_ct(ct, \"nandi@obvlada.si\"))"
   ]
  }
 ],
 "metadata": {
  "kernelspec": {
   "display_name": "Python 3 (ipykernel)",
   "language": "python",
   "name": "python3"
  },
  "language_info": {
   "codemirror_mode": {
    "name": "ipython",
    "version": 3
   },
   "file_extension": ".py",
   "mimetype": "text/x-python",
   "name": "python",
   "nbconvert_exporter": "python",
   "pygments_lexer": "ipython3",
   "version": "3.10.12"
  }
 },
 "nbformat": 4,
 "nbformat_minor": 4
}
